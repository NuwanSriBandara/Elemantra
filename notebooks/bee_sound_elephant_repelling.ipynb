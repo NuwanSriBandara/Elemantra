{
  "nbformat": 4,
  "nbformat_minor": 0,
  "metadata": {
    "colab": {
      "provenance": [],
      "gpuType": "T4"
    },
    "kernelspec": {
      "name": "python3",
      "display_name": "Python 3"
    },
    "language_info": {
      "name": "python"
    },
    "accelerator": "GPU"
  },
  "cells": [
    {
      "cell_type": "markdown",
      "source": [
        "Finalized flat version"
      ],
      "metadata": {
        "id": "tpxGS3l-al8u"
      }
    },
    {
      "cell_type": "code",
      "source": [
        "import random\n",
        "from pydub import AudioSegment\n",
        "import numpy as np\n",
        "import time\n",
        "\n",
        "def time_domain(audio):\n",
        "  speed_factor = random.uniform(0.8, 1.2)\n",
        "  pitch_shift = random.uniform(0.95, 1.05)\n",
        "  manipulated_audio = audio.set_frame_rate(int(audio.frame_rate * pitch_shift))\n",
        "  return manipulated_audio\n",
        "\n",
        "def freq_domain(bee_sound):\n",
        "  pink_noise = np.random.normal(0, 0.1, len(bee_sound))\n",
        "  manipulated_audio = bee_sound.overlay(AudioSegment(pink_noise.tobytes(), frame_rate=bee_sound.frame_rate, sample_width=bee_sound.sample_width, channels=1))\n",
        "  return manipulated_audio\n",
        "\n",
        "def randomized(bee_sound):\n",
        "  silence_duration = 100  # in milliseconds\n",
        "  gap_length = random.randint(1, 3) * silence_duration\n",
        "  gap = AudioSegment.silent(duration=gap_length)\n",
        "  manipulated_audio = bee_sound.overlay(gap)\n",
        "\n",
        "  return manipulated_audio\n",
        "\n",
        "audio = AudioSegment.from_file(\"/content/drive/MyDrive/bee sound/data/CF003 - Active - Day - (214).wav\")\n",
        "audio = audio[:4000]\n",
        "\n",
        "num_list = [1,2, 3]\n",
        "\n",
        "start_time = time.time()\n",
        "\n",
        "for i in range(1):\n",
        "  random_num = random.choice(num_list)\n",
        "  if(random_num==1):\n",
        "    manipulated = time_domain(audio)\n",
        "    manipulated.export(f\"output_sound_1_{i}.mp3\", format=\"mp3\")\n",
        "\n",
        "  elif(random_num==2):\n",
        "    manipulated = freq_domain(audio)\n",
        "    manipulated.export(f\"output_sound_2_{i}.mp3\", format=\"mp3\")\n",
        "\n",
        "  elif(random_num==3):\n",
        "    manipulated = randomized(audio)\n",
        "    manipulated.export(f\"output_sound_3_{i}.mp3\", format=\"mp3\")\n",
        "\n",
        "print(\"--- %s seconds ---\" % (time.time() - start_time))"
      ],
      "metadata": {
        "id": "9TwtwAp7CovD"
      },
      "execution_count": null,
      "outputs": []
    },
    {
      "cell_type": "markdown",
      "source": [
        "Spectra plots and correlation calculations"
      ],
      "metadata": {
        "id": "3z181kCVDhDW"
      }
    },
    {
      "cell_type": "code",
      "source": [
        "import librosa\n",
        "import librosa.display\n",
        "import numpy as np\n",
        "import matplotlib.pyplot as plt\n",
        "from scipy.signal import correlate2d\n",
        "\n",
        "# Load the two audio files\n",
        "audio_file1 = \"/content/audio.mp3\"  # Replace with your audio file paths\n",
        "audio_file2 = \"/content/output_sound_1_0.mp3\"\n",
        "\n",
        "# Load audio data and sample rate\n",
        "y1, sr1 = librosa.load(audio_file1)\n",
        "y2, sr2 = librosa.load(audio_file2)\n",
        "\n",
        "# Compute spectrograms\n",
        "D1 = librosa.amplitude_to_db(np.abs(librosa.stft(y1)), ref=np.max)\n",
        "D2 = librosa.amplitude_to_db(np.abs(librosa.stft(y2)), ref=np.max)\n",
        "\n",
        "# Visualize the spectrograms\n",
        "plt.figure(figsize=(12, 8))\n",
        "#plt.subplot(2, 1, 1)\n",
        "librosa.display.specshow(D1, sr=sr1, x_axis='time', y_axis='log')\n",
        "plt.colorbar(format='%+2.0f dB')\n",
        "plt.title('Log-frequency Spectrogram of Original Bee Sound')\n",
        "plt.tight_layout()\n",
        "plt.savefig(\"1.png\")\n",
        "plt.show()\n",
        "\n",
        "plt.figure(figsize=(12, 8))\n",
        "librosa.display.specshow(D2, sr=sr2, x_axis='time', y_axis='log')\n",
        "plt.colorbar(format='%+2.0f dB')\n",
        "plt.title('Log-frequency Spectrogram of Modified Bee Sound')\n",
        "plt.tight_layout()\n",
        "plt.savefig(\"2.png\")\n",
        "plt.show()\n",
        "\n",
        "# Perform cross-correlation between the two spectrograms\n",
        "correlation = correlate2d(D1, D2, boundary='symm', mode='same')\n",
        "\n",
        "max_corr = np.max(correlation)\n",
        "lag = np.argmax(correlation)\n",
        "\n",
        "print(f\"Maximum Correlation: {max_corr}\")\n",
        "print(f\"Time Lag (in frames): {lag}\")\n"
      ],
      "metadata": {
        "id": "YdKqe9fAslUC"
      },
      "execution_count": null,
      "outputs": []
    }
  ]
}