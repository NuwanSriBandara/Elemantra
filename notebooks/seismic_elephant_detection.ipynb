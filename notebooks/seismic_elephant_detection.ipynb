{
  "cells": [
    {
      "cell_type": "code",
      "execution_count": null,
      "metadata": {
        "id": "ALry5Ce-nLGT"
      },
      "outputs": [],
      "source": [
        "import numpy as np\n",
        "import scipy as sp\n",
        "import pandas as pd\n",
        "import matplotlib.pyplot as plt\n",
        "from scipy.signal import correlate as c1d\n",
        "from scipy.fft import fft, fftfreq\n",
        "\n",
        "import obspy\n",
        "\n",
        "from scipy.signal import spectrogram as spectro"
      ]
    },
    {
      "cell_type": "code",
      "source": [
        "%cd /content/"
      ],
      "metadata": {
        "id": "co3fD93RM58I"
      },
      "execution_count": null,
      "outputs": []
    },
    {
      "cell_type": "code",
      "source": [
        "!mkdir seismic_data"
      ],
      "metadata": {
        "id": "BOhzPahZMT_q"
      },
      "execution_count": null,
      "outputs": []
    },
    {
      "cell_type": "code",
      "source": [
        "!mkdir seismic_data/sample_data"
      ],
      "metadata": {
        "id": "mOz9besJND8o"
      },
      "execution_count": null,
      "outputs": []
    },
    {
      "cell_type": "code",
      "source": [
        "import matplotlib.pyplot as plt\n",
        "\n",
        "def plot_temporal_graph(x, y, i):\n",
        "  plt.plot(x, y)\n",
        "  plt.show()\n",
        "\n",
        "def plot_freq_graph(data, sample_rate, i):\n",
        "  fft_signal = fft(data)\n",
        "  freq = fftfreq(len(data), 1 / sample_rate)\n",
        "  plt.plot(freq, np.abs(fft_signal))\n",
        "  plt.show()\n",
        "\n",
        "def calculate_plot_spectro(data, sample_rate, freq_range, time_range, i):\n",
        "  frequencies, times, spectrogram_data = spectro(\n",
        "            data, fs=sample_rate, nperseg=400, noverlap=200, nfft=800\n",
        "        )\n",
        "  pattern_detected = []\n",
        "  for i in range(len(times)):\n",
        "      if times[i] >= time_range[0] and times[i] <= time_range[1]:\n",
        "          frequency_slice = spectrogram_data[:, i]\n",
        "          max_freq_index = np.argmax(frequency_slice)\n",
        "          max_frequency = frequencies[max_freq_index]\n",
        "          if max_frequency >= freq_range[0] and max_frequency <= freq_range[1]:\n",
        "              pattern_detected.append(i)\n",
        "\n",
        "  # Plot the spectrogram and detected patterns\n",
        "  plt.figure(figsize=(10, 6))\n",
        "  plt.pcolormesh(times, frequencies, 10 * np.log10(spectrogram_data), shading='gouraud')\n",
        "  plt.colorbar(label='Power Spectral Density (dB/Hz)')\n",
        "  plt.xlabel('Time (seconds)')\n",
        "  plt.ylabel('Frequency (Hz)')\n",
        "  plt.title('Spectrogram of Recorded Signal')\n",
        "  plt.plot(np.array(times)[pattern_detected], frequencies[np.argmax(spectrogram_data[:, pattern_detected], axis=0)], 'ro', markersize=6, label='Detected Patterns')\n",
        "  plt.legend()\n",
        "  plt.ylim(freq_range)\n",
        "  plt.xlim(time_range)\n",
        "  plt.show()\n",
        "\n",
        "def calculate_plot_fft(data, sample_rate, x_values, fm_start, fm_end, duration, i):\n",
        "  fft_signal = fft(data)\n",
        "  freq = fftfreq(len(data), 1 / sample_rate)\n",
        "\n",
        "  # Detect signals with characteristic frequency modulation\n",
        "  detected_indices = []\n",
        "  window_size = int(duration * sample_rate)\n",
        "\n",
        "  for i in range(0, len(data), window_size):\n",
        "      segment = fft_signal[i:i + window_size]\n",
        "      segment_freq = freq[i:i+window_size]\n",
        "      max_freq_idx = np.argmax(np.abs(segment))\n",
        "      max_freq = segment_freq[max_freq_idx]\n",
        "      if max_freq >= fm_start and max_freq <= fm_end:\n",
        "          detected_indices.append(i)\n",
        "\n",
        "  plt.figure(figsize=(10, 6))\n",
        "  plt.plot(x_values, data, label='Recorded Signal')\n",
        "  plt.plot(np.array(detected_indices) / sample_rate, data[detected_indices], 'ro', markersize=6, label='Detected Patterns')\n",
        "  plt.xlabel('Time (seconds)')\n",
        "  plt.ylabel('Amplitude')\n",
        "  plt.title('Recorded Signal and Detected Patterns')\n",
        "  plt.legend()\n",
        "  plt.grid()\n",
        "  plt.show()\n",
        "\n",
        "def retrieve_output_seismic(filepath):\n",
        "  df = pd.read_csv(filepath)\n",
        "\n",
        "  for j,row in df.iterrows():\n",
        "\n",
        "      event_num = row['event_num']\n",
        "      stationlist = [row['station0_seis'],row['station1_seis'],row['station2_seis'],row['station3_seis']]\n",
        "\n",
        "      for i,station in enumerate(stationlist):\n",
        "\n",
        "          file = str(event_num)+'_'+station+'_seismic.mseed'\n",
        "          try:\n",
        "            seis = obspy.read('./seismic_data/sample_data/'+file, format=\"MSEED\", dtype=np.float32)\n",
        "            data_seis = np.array([tr.data for tr in seis]).transpose()\n",
        "\n",
        "            x_values = np.arange(len(data_seis))\n",
        "            sample_rate = 200  # Sample rate in Hz\n",
        "\n",
        "            # Find the characteristic frequency modulation pattern\n",
        "            frequency_range = (20, 40)  # Frequency range in Hz\n",
        "            time_range = (3, 5)  # Duration range in seconds\n",
        "\n",
        "            plot_temporal_graph(x_values, data_seis[:, 0], file)\n",
        "            plot_freq_graph(data_seis[:, 0], sample_rate, file)\n",
        "\n",
        "            # Detect patterns using spectrogram\n",
        "            calculate_plot_spectro(data = data_seis[:, 0], sample_rate = sample_rate, freq_range = frequency_range, time_range = time_range, i= file)\n",
        "\n",
        "            # Define frequency modulation characteristics\n",
        "            fm_start = 20  # Starting frequency in Hz\n",
        "            fm_end = 40  # Ending frequency in Hz\n",
        "            duration = 5  # Duration in seconds\n",
        "\n",
        "            # Detect patterns using fft-based algorithm\n",
        "            calculate_plot_fft(data = data_seis[:, 0], sample_rate = sample_rate, x_values = x_values, fm_start = fm_start, fm_end = fm_end, duration = duration, i = file)\n",
        "\n",
        "          except:\n",
        "            continue\n",
        "\n",
        "      print('creating figures')\n",
        "\n",
        "      break"
      ],
      "metadata": {
        "id": "Zik0UGFjdeoJ"
      },
      "execution_count": null,
      "outputs": []
    },
    {
      "cell_type": "code",
      "source": [
        "retrieve_output_seismic('./seismic_data/data.csv')"
      ],
      "metadata": {
        "id": "bcrCV-NdnC9r"
      },
      "execution_count": null,
      "outputs": []
    }
  ],
  "metadata": {
    "kernelspec": {
      "display_name": "Python 3",
      "language": "python",
      "name": "python3"
    },
    "language_info": {
      "codemirror_mode": {
        "name": "ipython",
        "version": 3
      },
      "file_extension": ".py",
      "mimetype": "text/x-python",
      "name": "python",
      "nbconvert_exporter": "python",
      "pygments_lexer": "ipython3",
      "version": "3.8.5"
    },
    "colab": {
      "provenance": []
    }
  },
  "nbformat": 4,
  "nbformat_minor": 0
}